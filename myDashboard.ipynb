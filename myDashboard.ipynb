{
 "cells": [
  {
   "cell_type": "code",
   "execution_count": 14,
   "metadata": {},
   "outputs": [],
   "source": [
    "import ipywidgets as wdg\n",
    "import pandas as pd\n",
    "import numpy as np\n",
    "import matplotlib.pyplot as plt\n",
    "import json\n",
    "#from uk_covid19 import Cov19API\n",
    "from time import sleep"
   ]
  },
  {
   "cell_type": "code",
   "execution_count": 15,
   "metadata": {},
   "outputs": [],
   "source": [
    "%matplotlib inline\n",
    "# make figures larger\n",
    "plt.rcParams['figure.dpi'] = 100"
   ]
  },
  {
   "cell_type": "code",
   "execution_count": 16,
   "metadata": {},
   "outputs": [],
   "source": [
    "def parse_date(date_string):\n",
    "    ''' Convert a date string into a pandas datetime object '''\n",
    "    return pd.to_datetime(date_string, format=\"%Y-%m-%d\")\n",
    "\n",
    "def create_df(file):\n",
    "    '''creates a pandas dataframe from a \"json\" dictionary from uk-covid19 API software development kit'''\n",
    "    with open(file, \"rt\") as INFILE:\n",
    "        data = json.load(INFILE)\n",
    "    data_list =data['data']\n",
    "    dates = [dictionary['date'] for dictionary in data_list]\n",
    "    dates.sort()\n",
    "    startdate = parse_date(dates[0])\n",
    "    enddate = parse_date(dates[-1])\n",
    "    \n",
    "    index = pd.date_range(startdate, enddate, freq = 'D')\n",
    "    df = pd.DataFrame(index=index, columns= ['cases', 'hospital', 'tests', 'deaths'])\n",
    "    \n",
    "    for entry in data_list:\n",
    "        date = parse_date(entry['date'])\n",
    "        for column in ['cases', 'hospital', 'tests', 'deaths']:\n",
    "            if pd.isna(df.loc[date, column]):\n",
    "                value = float(entry[column]) if entry[column] != None else 0.0\n",
    "                df.loc[date, column] = value\n",
    "                \n",
    "    df.fillna(0.0, inplace = True)\n",
    "    return df\n",
    "\n",
    "def query_API():\n",
    "    # filters for queries\n",
    "    scotland_filters = [\n",
    "        'areaType=nation',\n",
    "        'areaName=Scotland'\n",
    "    ]\n",
    "    NI_filters = [\n",
    "        'areaType=nation',\n",
    "        'areaName=Northern Ireland'\n",
    "    ]\n",
    "    Wales_filters = [\n",
    "        'areaType=nation',\n",
    "        'areaName=Wales'\n",
    "    ]\n",
    "    England_filters = [\n",
    "        'areaType=nation',\n",
    "        'areaName=England'\n",
    "    ]\n",
    "    # structure for queries\n",
    "    structure = {\n",
    "        'date': 'date',\n",
    "        'cases': 'newCasesByPublishDate',\n",
    "        'hospital': 'newAdmissions',\n",
    "        'tests': 'newTestsByPublishDate',\n",
    "        'deaths': 'newDeaths28DaysByDeathDate'\n",
    "    }\n",
    "    # query the api for scotland..\n",
    "    api0 = Cov19API(filters=scotland_filters, structure=structure)\n",
    "    scotland = api.get_json()\n",
    "    time.sleep(1)\n",
    "    # ...for wales..\n",
    "    api2 = Cov19API(filters=Wales_filters,structure=structure)\n",
    "    wales = api2.get_json()\n",
    "    time.sleep(1)\n",
    "    # ..for northern ireland..\n",
    "    api3 = Cov19API(filters=NI_filters, structure=structure)\n",
    "    northernireland = api3.get_json()\n",
    "    time.sleep(1)\n",
    "    # ..and for england.\n",
    "    api4 = Cov19API(filters=England_filters, structure=structure)\n",
    "    england = api4.get_json()\n",
    "    \n",
    "\n",
    "def wrangle_data(updated):\n",
    "    '''wrangles data from the PHE API without touching the files'''\n",
    "    "
   ]
  },
  {
   "cell_type": "code",
   "execution_count": 17,
   "metadata": {},
   "outputs": [],
   "source": [
    "scotland_df = create_df(\"scottish.json\")\n",
    "wales_df = create_df(\"welsh.json\")\n",
    "nireland_df = create_df(\"nirish.json\")\n",
    "england_df = create_df(\"english.json\")\n"
   ]
  },
  {
   "cell_type": "markdown",
   "metadata": {},
   "source": [
    "# Covid-19 Data from Public Health England\n",
    "## Displayed in an interactive manner!\n",
    "### Data for new Cases, Admissions to hospital, Tests and Deaths are displayed sorted by date."
   ]
  },
  {
   "cell_type": "markdown",
   "metadata": {},
   "source": [
    "- You can interact with it and select what data you want to see.\n",
    "- ```CTRL-Click``` selects multiple options.\n",
    "- Beware that the axes change depending on what option you are viewing, and that some values (eg. tests) are much higher than other (eg. deaths)."
   ]
  },
  {
   "cell_type": "code",
   "execution_count": 18,
   "metadata": {},
   "outputs": [],
   "source": [
    "scotseries = wdg.SelectMultiple(\n",
    "    options = ['cases', 'hospital', 'tests', 'deaths'],\n",
    "    value = ['cases', 'hospital', 'tests', 'deaths'],\n",
    "    rows = 4,\n",
    "    description = 'Stats:',\n",
    "    disabled = False\n",
    ")\n",
    "\n",
    "scotscale = wdg.RadioButtons(\n",
    "    options = ['linear', 'log'],\n",
    "    value = 'linear',\n",
    "    description = 'Scale',\n",
    "    disabled = False\n",
    ")\n",
    "\n",
    "# horisontal controls\n",
    "\n",
    "scotcontrols = wdg.HBox([scotseries, scotscale])\n"
   ]
  },
  {
   "cell_type": "markdown",
   "metadata": {},
   "source": [
    "### Data for Scotland"
   ]
  },
  {
   "cell_type": "code",
   "execution_count": 19,
   "metadata": {},
   "outputs": [
    {
     "data": {
      "application/vnd.jupyter.widget-view+json": {
       "model_id": "63784d5fd97e473bb9046fb828597d37",
       "version_major": 2,
       "version_minor": 0
      },
      "text/plain": [
       "HBox(children=(SelectMultiple(description='Stats:', index=(0, 1, 2, 3), options=('cases', 'hospital', 'tests',…"
      ]
     },
     "metadata": {},
     "output_type": "display_data"
    },
    {
     "data": {
      "application/vnd.jupyter.widget-view+json": {
       "model_id": "56a9153cf6ef40f9aab290a10225c271",
       "version_major": 2,
       "version_minor": 0
      },
      "text/plain": [
       "Output()"
      ]
     },
     "metadata": {},
     "output_type": "display_data"
    }
   ],
   "source": [
    "def scotland_graph(gcols, gscale):\n",
    "    if gscale == 'linear':\n",
    "        logscale = False\n",
    "    else:\n",
    "        logscale = True\n",
    "    ncols = len(gcols)\n",
    "    if ncols > 0:\n",
    "        scotland_df[list(gcols)].plot(logy = logscale)\n",
    "    else:\n",
    "        print(\"Click to select data for graph\")\n",
    "        print(\"(CTRL-Click to select more than one category)\")\n",
    "        \n",
    "graph_scot = wdg.interactive_output(scotland_graph, {'gcols': scotseries, 'gscale': scotscale})\n",
    "display(scotcontrols, graph_scot)\n"
   ]
  },
  {
   "cell_type": "code",
   "execution_count": 20,
   "metadata": {},
   "outputs": [],
   "source": [
    "niseries = wdg.SelectMultiple(\n",
    "    options = ['cases', 'hospital', 'tests', 'deaths'],\n",
    "    value = ['cases', 'hospital', 'tests', 'deaths'],\n",
    "    rows = 4,\n",
    "    description = 'Stats:',\n",
    "    disabled = False\n",
    ")\n",
    "\n",
    "niscale = wdg.RadioButtons(\n",
    "    options = ['linear', 'log'],\n",
    "    value = 'linear',\n",
    "    description = 'Scale',\n",
    "    disabled = False\n",
    ")\n",
    "\n",
    "# horisontal controls\n",
    "\n",
    "nicontrols = wdg.HBox([niseries, niscale])\n"
   ]
  },
  {
   "cell_type": "markdown",
   "metadata": {},
   "source": [
    "### Data for Northern Ireland"
   ]
  },
  {
   "cell_type": "code",
   "execution_count": 21,
   "metadata": {},
   "outputs": [
    {
     "data": {
      "application/vnd.jupyter.widget-view+json": {
       "model_id": "94ab1803a21a4c02be5f2157b7c48735",
       "version_major": 2,
       "version_minor": 0
      },
      "text/plain": [
       "HBox(children=(SelectMultiple(description='Stats:', index=(0, 1, 2, 3), options=('cases', 'hospital', 'tests',…"
      ]
     },
     "metadata": {},
     "output_type": "display_data"
    },
    {
     "data": {
      "application/vnd.jupyter.widget-view+json": {
       "model_id": "578b0554cb334545836a046f840cb5b1",
       "version_major": 2,
       "version_minor": 0
      },
      "text/plain": [
       "Output()"
      ]
     },
     "metadata": {},
     "output_type": "display_data"
    }
   ],
   "source": [
    "def nireland_graph(gcols, gscale):\n",
    "    if gscale == 'linear':\n",
    "        logscale = False\n",
    "    else:\n",
    "        logscale = True\n",
    "    ncols = len(gcols)\n",
    "    if ncols > 0:\n",
    "        nireland_df[list(gcols)].plot(logy = logscale)\n",
    "    else:\n",
    "        print(\"Click to select data for graph\")\n",
    "        print(\"(CTRL-Click to select more than one category)\")\n",
    "        \n",
    "graph_nire = wdg.interactive_output(nireland_graph, {'gcols': niseries, 'gscale': niscale})\n",
    "display(nicontrols, graph_nire)\n",
    "\n"
   ]
  },
  {
   "cell_type": "code",
   "execution_count": 22,
   "metadata": {},
   "outputs": [],
   "source": [
    "walseries = wdg.SelectMultiple(\n",
    "    options = ['cases', 'hospital', 'tests', 'deaths'],\n",
    "    value = ['cases', 'hospital', 'tests', 'deaths'],\n",
    "    rows = 4,\n",
    "    description = 'Stats:',\n",
    "    disabled = False\n",
    ")\n",
    "\n",
    "walscale = wdg.RadioButtons(\n",
    "    options = ['linear', 'log'],\n",
    "    value = 'linear',\n",
    "    description = 'Scale',\n",
    "    disabled = False\n",
    ")\n",
    "\n",
    "# horisontal controls\n",
    "\n",
    "walcontrols = wdg.HBox([walseries, walscale])\n"
   ]
  },
  {
   "cell_type": "markdown",
   "metadata": {},
   "source": [
    "### Data for Wales"
   ]
  },
  {
   "cell_type": "code",
   "execution_count": 23,
   "metadata": {},
   "outputs": [
    {
     "data": {
      "application/vnd.jupyter.widget-view+json": {
       "model_id": "dfd764e705c24a27856ff4289cb434ec",
       "version_major": 2,
       "version_minor": 0
      },
      "text/plain": [
       "HBox(children=(SelectMultiple(description='Stats:', index=(0, 1, 2, 3), options=('cases', 'hospital', 'tests',…"
      ]
     },
     "metadata": {},
     "output_type": "display_data"
    },
    {
     "data": {
      "application/vnd.jupyter.widget-view+json": {
       "model_id": "a202538a1d3340a1b1d164175ad1d211",
       "version_major": 2,
       "version_minor": 0
      },
      "text/plain": [
       "Output()"
      ]
     },
     "metadata": {},
     "output_type": "display_data"
    }
   ],
   "source": [
    "def wales_graph(gcols, gscale):\n",
    "    if gscale == 'linear':\n",
    "        logscale = False\n",
    "    else:\n",
    "        logscale = True\n",
    "    ncols = len(gcols)\n",
    "    if ncols > 0:\n",
    "        wales_df[list(gcols)].plot(logy = logscale)\n",
    "    else:\n",
    "        print(\"Click to select data for graph\")\n",
    "        print(\"(CTRL-Click to select more than one category)\")\n",
    "\n",
    "graph_wales = wdg.interactive_output(wales_graph, {'gcols': walseries, 'gscale': walscale})\n",
    "display(walcontrols, graph_wales)\n",
    "        "
   ]
  },
  {
   "cell_type": "code",
   "execution_count": 24,
   "metadata": {},
   "outputs": [],
   "source": [
    "engseries = wdg.SelectMultiple(\n",
    "    options = ['cases', 'hospital', 'tests', 'deaths'],\n",
    "    value = ['cases', 'hospital', 'tests', 'deaths'],\n",
    "    rows = 4,\n",
    "    description = 'Stats:',\n",
    "    disabled = False\n",
    ")\n",
    "\n",
    "engscale = wdg.RadioButtons(\n",
    "    options = ['linear', 'log'],\n",
    "    value = 'linear',\n",
    "    description = 'Scale',\n",
    "    disabled = False\n",
    ")\n",
    "\n",
    "# horisontal controls\n",
    "\n",
    "engcontrols = wdg.HBox([engseries, engscale])\n"
   ]
  },
  {
   "cell_type": "markdown",
   "metadata": {},
   "source": [
    "### Data for England"
   ]
  },
  {
   "cell_type": "code",
   "execution_count": 25,
   "metadata": {},
   "outputs": [
    {
     "data": {
      "application/vnd.jupyter.widget-view+json": {
       "model_id": "b218d971868a4ccc8fe5103dcab679d2",
       "version_major": 2,
       "version_minor": 0
      },
      "text/plain": [
       "HBox(children=(SelectMultiple(description='Stats:', index=(0, 1, 2, 3), options=('cases', 'hospital', 'tests',…"
      ]
     },
     "metadata": {},
     "output_type": "display_data"
    },
    {
     "data": {
      "application/vnd.jupyter.widget-view+json": {
       "model_id": "faf61a2228044978a79de33d43d2ff93",
       "version_major": 2,
       "version_minor": 0
      },
      "text/plain": [
       "Output()"
      ]
     },
     "metadata": {},
     "output_type": "display_data"
    }
   ],
   "source": [
    "def england_graph(gcols, gscale):\n",
    "    if gscale == 'linear':\n",
    "        logscale = False\n",
    "    else:\n",
    "        logscale = True\n",
    "    ncols = len(gcols)\n",
    "    if ncols > 0:\n",
    "        england_df[list(gcols)].plot(logy = logscale)\n",
    "    else:\n",
    "        print(\"Click to select data for graph\")\n",
    "        print(\"(CTRL-Click to select more than one category)\")\n",
    "        \n",
    "graph_eng = wdg.interactive_output(england_graph, {'gcols': engseries, 'gscale': engscale})\n",
    "display(engcontrols, graph_eng)"
   ]
  },
  {
   "cell_type": "code",
   "execution_count": 26,
   "metadata": {},
   "outputs": [],
   "source": [
    "def refresh_graph():\n",
    "    '''Change widget value in order to force redraw of graphs after updating data'''\n",
    "    #scotland\n",
    "    currentscot = graph_scot.value\n",
    "    if currentscot == graph_scot.options[0]:\n",
    "        otherscot = graph_scot.options[1]\n",
    "    else:\n",
    "        otherscot = graph_scot.options[1]\n",
    "    graph_scot.value = otherscot # forces redraw\n",
    "    graph_scot.value = currentscot # changing it back\n",
    "    \n",
    "    #wales\n",
    "    currentwelsh = graph_wales.value\n",
    "    if currentwelsh == graph_wales.options[0]:\n",
    "        otherwelsh = graph_wales.options[1]\n",
    "    else:\n",
    "        otherwelsh = graph_wales.options[1]\n",
    "    graph_wales.value = otherwelsh # forces redraw\n",
    "    graph_wales.value = currentwelsh # changing it back\n",
    "    \n",
    "    #northern ireland\n",
    "    currentni = graph_nire.value\n",
    "    if currentni == graph_niret.options[0]:\n",
    "        otherni = graph_nire.options[1]\n",
    "    else:\n",
    "        otherni = graph_nire.options[1]\n",
    "    graph_nire.value = otherni # forces redraw\n",
    "    graph_nire.value = currentni # changing it back\n",
    "    \n",
    "    #england\n",
    "    currenteng = graph_eng.value\n",
    "    if currenteng == graph_eng.options[0]:\n",
    "        othereng = graph_eng.options[1]\n",
    "    else:\n",
    "        othereng = graph_eng.options[1]\n",
    "    graph_eng.value = othereng # forces redraw\n",
    "    graph_eng.value = currenteng # changing it back\n",
    "    \n",
    "    \n",
    "def access_api(button):\n",
    "    ### acces api and wrangle data\n",
    "    refresh_graph()\n",
    "    apibutton.icon=\"check\"\n",
    "    apibutton.disabled = True"
   ]
  },
  {
   "cell_type": "markdown",
   "metadata": {},
   "source": [
    "(C) 2020 Siv Leknes, Data from Public Health England."
   ]
  }
 ],
 "metadata": {
  "kernelspec": {
   "display_name": "Python 3",
   "language": "python",
   "name": "python3"
  },
  "language_info": {
   "codemirror_mode": {
    "name": "ipython",
    "version": 3
   },
   "file_extension": ".py",
   "mimetype": "text/x-python",
   "name": "python",
   "nbconvert_exporter": "python",
   "pygments_lexer": "ipython3",
   "version": "3.8.5"
  }
 },
 "nbformat": 4,
 "nbformat_minor": 4
}
